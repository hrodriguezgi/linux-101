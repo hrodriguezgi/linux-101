{
 "cells": [
  {
   "cell_type": "markdown",
   "metadata": {},
   "source": [
    "# Terminal"
   ]
  },
  {
   "cell_type": "markdown",
   "metadata": {
    "tags": []
   },
   "source": [
    "La mayoría de sistemas operativos hoy en día cuentan con una interfaz gráfica que permite relaizar acciones a través de click y doble clicks, que posteriomente el sistema operativo los interpreta y los convierte en comandos. Sin embargo antes de que los computadores contaran con este sistema gráfico, era necesario escribir los comandos a través de una terminal. Cada vez que se digitaba un comando, este ejecutaba otros programas, algunas veces imprimian en pantalla la salida, y al final muestra un aviso indicando que se encuentra listo para el siguiente comando.\n",
    "\n",
    "![Terminal](images/terminal.png)"
   ]
  },
  {
   "cell_type": "markdown",
   "metadata": {},
   "source": [
    "¿Cuál es la relación entre un explorador de archivos y la línea de comandos o terminal?\n",
    "- **A:** El explorador de archivos permite ver y editar archivos, mientras que la terminal permite correr programas.\n",
    "- **B:** El explorar de archivos está construido encima de la terminal\n",
    "- **C:** La termianl es parte del sistema operativo, mientras que el explorador de archivos no.\n",
    "- **D:** Ambas interfaces permiten enviar comandos al sistema operativo"
   ]
  },
  {
   "cell_type": "markdown",
   "metadata": {},
   "source": [
    "------"
   ]
  },
  {
   "cell_type": "markdown",
   "metadata": {},
   "source": [
    "La interfaz del terminal permite conocer el usuario actual con el que nos encontramos trabajando, el nombre de la máquina e incluso el directorio donde nos encontramos. También permite identificar si el usuario es limitado `$`, o estamos como super usuarios: `#`\n",
    "\n",
    "![terminal2](images/terminal2.png)"
   ]
  },
  {
   "cell_type": "markdown",
   "metadata": {},
   "source": [
    "--------"
   ]
  },
  {
   "cell_type": "markdown",
   "metadata": {},
   "source": [
    "## Comandos \n",
    "\n",
    "Los siguientes comandos nos permiten realizar tareas de administración sobre el sistema operativo:\n",
    "   \n",
    "| Comando | Descripción | Sintaxis |\n",
    "|---------|-------------|----------|\n",
    "| **man**       | Se utiliza para leer el manual de usuario de los comandos en Linux      | `man pwd`\n",
    "| **sudo**      | Significa **Super User Do**, utilizado para ejecutar como administrador | `sudo apt install python` \n",
    "| **adduser**   | Se utiliza para añadir un usuario.                                      | `adduser pedrito`\n",
    "| **userdel**   | Se utiliza para eliminar un usuario.                                    | `userdel pedrito`\n",
    "| **addgroup**  | Se utiliza para añadir un grupo.                                        | `addgroup administrador`\n",
    "| **groupdell** | Se utiliza para eliminar un grupo.                                      | `groupdel administrador`\n",
    "| **passwd**    | Se utiliza para establecer la contraseña a un usuario.                  | `passwd pedrito`\n",
    "| **ps**        | Se utiliza para revisar los procesos activos en el sistema.             | `ps`\n",
    "| **kill**      | Se utiliza para enviar una señal a un proceso                           | `kill -9 432`"
   ]
  },
  {
   "cell_type": "markdown",
   "metadata": {},
   "source": [
    "## Comandos \n",
    "\n",
    "Los siguientes comandos nos permiten realizar manipulación de las directorios y ficheros:\n",
    "\n",
    "| Comando | Descripción | Sintaxis |\n",
    "|---------|-------------|----------|\n",
    "| **pwd**   | Significa **Print Working Directory** y permite conocer la ruta actual | `pwd` \n",
    "| **ls**    | Significa **Listing**, y permite listar archivos y carpetas | `ls` \n",
    "| **cd**    | Significa **Change Directory** y permite cambiar de directorio | `cd /home` \n",
    "| **mkdir** | Significa **Make Directory** y permite crear un directorio | `mkdir new_directory` \n",
    "| **rmdir** | Significa **Remove Directory** y permite eliminar un directorio vacío | `rmdir new_directory` \n",
    "| **cp**    | Significa **Copy** y permite copiar archivos y/o carpetas | `cp file1.csv /tmp/file1.csv` \n",
    "| **mv**    | Significa **Move** y permite renombrar o mover archivos y/o carpetas | `mv file2.csv /tmp/`\n",
    "| **rm**    | Significa **Remove** y permite eliminar archivos (y carpetas) | `rm file2.csv`\n",
    "| **chmod** | Cambia los permisos de un archivo | `chmod 775 foo`\n",
    "| **chown** | Cambia el dueño un archivo | `chown pedrito:administrador foo`\n",
    "| **touch** | Este comando significa **Change Directory** y permite cambiar de ubicación entre los directorios del sistema | `cd /home` |\n",
    "| **du**    | Muestra el tamaño del directorio o archivo | `du -h archivo`\n",
    "| **file**  | Muestra que tipo de archivo | `file archivo`"
   ]
  },
  {
   "cell_type": "markdown",
   "metadata": {},
   "source": [
    "### Ejercicio 1\n",
    "\n",
    "Haciendo uso de los comandos vistos anteriormente, indicar:\n",
    "- Cuál es la ruta en la cual se encuentra actualmente?\n",
    "- Es posible lista los archivos de la carpeta `/var/log` sin cambiar de ruta?\n",
    "- Cómo puedo subir un nivel de directorio?"
   ]
  },
  {
   "cell_type": "markdown",
   "metadata": {},
   "source": [
    "### Solución"
   ]
  },
  {
   "cell_type": "markdown",
   "metadata": {},
   "source": [
    "------"
   ]
  },
  {
   "cell_type": "markdown",
   "metadata": {},
   "source": [
    "### Ejercicio 2\n",
    "\n",
    "- Copiar los archivos `tux.jpg` y `FileSystem.jpg` que se encuentran en la ruta `images` a la carpeta `backup`\n",
    "- Renombrar el archivo `tux.jpg` copiado anteriormente a `tux_copia.bck`\n",
    "- Cree un archivo llamado `new_file` de 10Mb de peso\n",
    "- Cuál es el peso de la carpeta `backup`?"
   ]
  },
  {
   "cell_type": "markdown",
   "metadata": {},
   "source": [
    "### Solución"
   ]
  },
  {
   "cell_type": "markdown",
   "metadata": {},
   "source": [
    "---------"
   ]
  },
  {
   "cell_type": "markdown",
   "metadata": {},
   "source": [
    "## Comandos\n",
    "\n",
    "| Comando | Descripción | Sintaxis |\n",
    "|---------|-------------|----------|\n",
    "| **cat**  | Muestra todo el contenido de un archivo en pantalla en forma continua | `cat archivo`\n",
    "| **head** | Muestra las primeras líneas de un fichero                             | `head archivo`\n",
    "| **tail** | Muestra las últimas líneas de un fichero                              | `tail archivo`\n",
    "| **grep** | Busca patrones de texto en archivos                                   | `grep *seg* directorio`\n",
    "| **head** | Muestra el inicio de un archivo                                       | `head archivo`   \n",
    "| **more** | Visualiza página a página un archivo                                  | `more archivo`\n",
    "| **tail** | Muestra el final de un archivo                                        | `tail archivo`\n",
    "| **awk**  | Se utiliza para buscar patrones de cadena                             | `awk ‘{ print $1}’`\n"
   ]
  },
  {
   "cell_type": "markdown",
   "metadata": {},
   "source": [
    "### Ejercicio\n",
    "\n",
    "Haciendo uso de los comandos vistos anteriormente, indicar:\n",
    "- Cuál es la ruta en la cual se encuentra actualmente?\n",
    "- Es posible lista los archivos de la carpeta `/var/log` sin cambiar de ruta?\n",
    "- Cómo puedo subir un nivel de directorio?"
   ]
  },
  {
   "cell_type": "markdown",
   "metadata": {},
   "source": [
    "### Solución"
   ]
  },
  {
   "cell_type": "markdown",
   "metadata": {},
   "source": [
    "---------"
   ]
  },
  {
   "cell_type": "markdown",
   "metadata": {},
   "source": [
    "## Otros Comandos\n",
    "\n",
    "| Comando | Descripción | Sintaxis |\n",
    "|---------|-------------|----------|\n",
    "| **cal**  | Muestra el calendario      | `cal`\n",
    "| **date** | Muestra la hora y la fecha | `date`\n",
    "| **echo** | Imprime en consola         | `echo \"prueba\"`\n"
   ]
  }
 ],
 "metadata": {
  "kernelspec": {
   "display_name": "Python 3 (ipykernel)",
   "language": "python",
   "name": "python3"
  },
  "language_info": {
   "codemirror_mode": {
    "name": "ipython",
    "version": 3
   },
   "file_extension": ".py",
   "mimetype": "text/x-python",
   "name": "python",
   "nbconvert_exporter": "python",
   "pygments_lexer": "ipython3",
   "version": "3.10.4"
  }
 },
 "nbformat": 4,
 "nbformat_minor": 4
}
