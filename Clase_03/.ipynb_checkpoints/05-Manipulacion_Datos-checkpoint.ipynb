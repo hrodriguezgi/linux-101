{
 "cells": [
  {
   "cell_type": "markdown",
   "id": "4cdb73e7-da0d-43aa-a543-c19f4da7e390",
   "metadata": {},
   "source": [
    "# Manipulación de datos"
   ]
  },
  {
   "cell_type": "markdown",
   "id": "40ca3a35-ac83-487e-aec5-8655d2171a3e",
   "metadata": {},
   "source": [
    "## Visualizar el contenido de un fichero"
   ]
  },
  {
   "cell_type": "markdown",
   "id": "1d74f018-7715-458f-8f65-3e33fcfefb6d",
   "metadata": {},
   "source": [
    "### Visualizar todo el contenido `cat`"
   ]
  },
  {
   "cell_type": "markdown",
   "id": "8a5cafee-421f-4b86-8d7c-23a0df08146d",
   "metadata": {},
   "source": [
    "### Visualizar las primeras líneas `head`"
   ]
  },
  {
   "cell_type": "markdown",
   "id": "8a5c803a-5db8-4457-8cbc-d7520f52c675",
   "metadata": {},
   "source": [
    "### Visualizar las últimas líneas `tail`"
   ]
  },
  {
   "cell_type": "markdown",
   "id": "dd6989e3-1f47-4e45-b70d-c68885146059",
   "metadata": {},
   "source": [
    "### Visualizar por páginas `more`"
   ]
  },
  {
   "cell_type": "markdown",
   "id": "28e07e53-041a-4f71-b905-5b14df914449",
   "metadata": {},
   "source": [
    "### Visualir por lineas `less`"
   ]
  },
  {
   "cell_type": "markdown",
   "id": "8560ad22-c164-4098-a9a6-e75d1d6f097f",
   "metadata": {},
   "source": []
  },
  {
   "cell_type": "markdown",
   "id": "660e04cc-5487-42a3-a191-c4891534775b",
   "metadata": {},
   "source": []
  },
  {
   "cell_type": "markdown",
   "id": "4b9b9947-dbc4-4d07-a646-9974ae569eab",
   "metadata": {},
   "source": []
  },
  {
   "cell_type": "markdown",
   "id": "9f624caf-7468-4792-aae8-51a28dc7419b",
   "metadata": {},
   "source": []
  },
  {
   "cell_type": "code",
   "execution_count": null,
   "id": "c6941df4-ed2c-4e31-95d5-1713a763f57b",
   "metadata": {},
   "outputs": [],
   "source": []
  }
 ],
 "metadata": {
  "kernelspec": {
   "display_name": "Python 3 (ipykernel)",
   "language": "python",
   "name": "python3"
  },
  "language_info": {
   "codemirror_mode": {
    "name": "ipython",
    "version": 3
   },
   "file_extension": ".py",
   "mimetype": "text/x-python",
   "name": "python",
   "nbconvert_exporter": "python",
   "pygments_lexer": "ipython3",
   "version": "3.10.4"
  }
 },
 "nbformat": 4,
 "nbformat_minor": 5
}
