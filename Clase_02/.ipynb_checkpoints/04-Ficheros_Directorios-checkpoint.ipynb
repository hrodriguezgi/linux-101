{
 "cells": [
  {
   "cell_type": "markdown",
   "id": "d44ee256-5ba4-4c5f-96a4-12e3190153ee",
   "metadata": {},
   "source": [
    "# Manipulación de Directorios y Ficheros"
   ]
  },
  {
   "cell_type": "markdown",
   "id": "1a6c4583-ea8b-4120-87b8-db80dbcc4a67",
   "metadata": {},
   "source": [
    "## Dónde estoy?"
   ]
  },
  {
   "cell_type": "markdown",
   "id": "742a9c29-3255-45fe-b9b6-267eae181fea",
   "metadata": {},
   "source": [
    "## Cómo identifico los archivos y directorios"
   ]
  },
  {
   "cell_type": "markdown",
   "id": "30dcb43e-7867-45e1-88a8-1b17b4d88dcf",
   "metadata": {},
   "source": [
    "## Cómo me muevo a los demás directorios?"
   ]
  },
  {
   "cell_type": "markdown",
   "id": "c4017300-d4b9-4179-8039-fba8cdb2679e",
   "metadata": {},
   "source": [
    "## Copiar ficheros"
   ]
  },
  {
   "cell_type": "markdown",
   "id": "458cfadf-949f-4e5d-8162-2fc5c352566f",
   "metadata": {},
   "source": [
    "## Mover ficheros"
   ]
  },
  {
   "cell_type": "markdown",
   "id": "8d30bb89-fa7d-4dab-9e1b-6804005b1683",
   "metadata": {},
   "source": [
    "## Renombrar ficheros"
   ]
  },
  {
   "cell_type": "markdown",
   "id": "4b3175e3-f74f-4713-a145-c99be8fb2c7a",
   "metadata": {},
   "source": [
    "## Eliminar ficheros"
   ]
  },
  {
   "cell_type": "markdown",
   "id": "01aa71c5-7fc4-4c3a-82d0-de30460d57c5",
   "metadata": {},
   "source": [
    "## Crear y eliminar directorios"
   ]
  }
 ],
 "metadata": {
  "kernelspec": {
   "display_name": "Python 3 (ipykernel)",
   "language": "python",
   "name": "python3"
  },
  "language_info": {
   "codemirror_mode": {
    "name": "ipython",
    "version": 3
   },
   "file_extension": ".py",
   "mimetype": "text/x-python",
   "name": "python",
   "nbconvert_exporter": "python",
   "pygments_lexer": "ipython3",
   "version": "3.10.4"
  }
 },
 "nbformat": 4,
 "nbformat_minor": 5
}
